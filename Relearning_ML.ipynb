{
 "cells": [
  {
   "cell_type": "markdown",
   "metadata": {},
   "source": [
    "# MACHINE LEARING\n",
    "Relearning machine learning "
   ]
  },
  {
   "cell_type": "markdown",
   "metadata": {},
   "source": [
    "###### I will hit the world like a storm"
   ]
  },
  {
   "cell_type": "markdown",
   "metadata": {},
   "source": [
    "### Step 1: Ask the right question"
   ]
  },
  {
   "cell_type": "markdown",
   "metadata": {},
   "source": [
    "##### Example: Using diabetes data to predict who's likely to get diabetes"
   ]
  },
  {
   "cell_type": "markdown",
   "metadata": {},
   "source": [
    "### Step 2: Preparing data\n",
    "##### Inspect, clean, explore & mold data to tidy data"
   ]
  },
  {
   "cell_type": "markdown",
   "metadata": {},
   "source": [
    "* tidy data - dataset that is easy to work with"
   ]
  },
  {
   "cell_type": "markdown",
   "metadata": {},
   "source": [
    "### Step 3: Use pandas to read data\n",
    "##### Example:\n",
    "    df = pd.read_csv(\"data/pima-data.csv\")"
   ]
  },
  {
   "cell_type": "markdown",
   "metadata": {},
   "source": [
    "### Step 4: Identify correlated data\n",
    "##### Creating function to plot a correlations matrix for each pair of columns in dataframe,\n",
    "\n",
    "* Input:\n",
    "       df: pandas DataFrame\n",
    "       size: vertical & horizontal size of the plot\n",
    "  Displays:\n",
    "          matrix of correlation between columns:\n",
    "                   Blue-cyan-yellow-red-darkred = less to most correlated"
   ]
  },
  {
   "cell_type": "markdown",
   "metadata": {},
   "source": [
    "### Step 5: Clean data\n",
    "#### Elimination of un-needed, dublicate, null columns"
   ]
  },
  {
   "cell_type": "markdown",
   "metadata": {},
   "source": [
    "### Step 6: Molding the data for training\n",
    "* Adjusting to ensure data is relevant\n",
    "* Creating new columns if needed\n",
    "* True-False is converted to 1-0\n",
    "\n",
    "Note: Accurately predicted data is rare"
   ]
  },
  {
   "cell_type": "markdown",
   "metadata": {},
   "source": [
    "### Step 7: Check true/false ratio of data {if it's there}\n",
    "#### Example:\n",
    "    num_true = len(df.loc[df['diabetes'] == 1])\n",
    "    num_false = len(df.loc[df['diabetes'] == 0])\n",
    "    print(\"Number of true cases: {0} ({1:2.2f}%)\".format(num_true, (num_true/(num_true+num_false)) * 100))\n",
    "    print(\"Number of false cases: {0} ({1:2.2f}%)\".format(num_false, (num_false/(num_true+num_false)) * 100))\n",
    "\n",
    "Note: track how you manipulate your data"
   ]
  },
  {
   "cell_type": "markdown",
   "metadata": {},
   "source": [
    "### Step 8: Selecting algorithm for traing data\n",
    "#### Perform algorithm selection:\n",
    "* Use solution to filter algorithms\n",
    "* Discuss best algorithms\n",
    "* Select one initial algorithm"
   ]
  },
  {
   "cell_type": "markdown",
   "metadata": {},
   "source": [
    "#### Training data\n",
    "* Traing model using fit() in scikitlearn is used process the training data\n",
    "* Using alorithm's logic the data is analysed\n",
    "* A mathematical model evaluates the analysed data\n",
    "* Algorithm uses the evalution to adjust internal parameters to produce trained data\n",
    "\n",
    "#### Predicting data\n",
    "* The trained model is called using predict() in scikitlearn \n",
    "* Real data is passed to the predicted model \n",
    "* Using trained data the model predicts future trend of the real data"
   ]
  },
  {
   "cell_type": "markdown",
   "metadata": {},
   "source": [
    "### Algorithm  Decision Factor\n",
    "* Learning Type\n",
    "* Result\n",
    "* Complexity\n",
    "* Basic vs Enhanced\n",
    "\n",
    "##### Learning Type\n",
    "* Supervised / Unsupervised :  predictiton model == supervised\n",
    "\n",
    "##### Result Type\n",
    "* Regression = contiuos values eg. future real estate prices\n",
    "* Classification = Discrete values eg. benign/malignant cancer\n",
    "\n",
    "##### Complexity\n",
    "* Keep it simple\n",
    "    * Eliminate 'ensemble' algorithms\n",
    "\n",
    "##### Basic vs Enhanced\n",
    "* Enhance\n",
    "    * Variation of basic\n",
    "    * Improved performances\n",
    "    * More functionality\n",
    "    * More complex\n",
    "* Basic \n",
    "    * Simpler\n",
    "    * Easy to understand"
   ]
  },
  {
   "cell_type": "markdown",
   "metadata": {},
   "source": [
    "### Step 8: Training the data\n",
    "* Understand the training process \n",
    "* Use of Scikit-learn package\n",
    "* Train the algorithm with the data"
   ]
  },
  {
   "cell_type": "markdown",
   "metadata": {},
   "source": [
    "#### Machine learniing training:\n",
    "Letting *specific* data teach a machine learning algorithm to create a *specific* prediction model."
   ]
  },
  {
   "cell_type": "markdown",
   "metadata": {},
   "source": [
    "#### Why data is retrained?\n",
    "* New data => better predictions\n",
    "* Verify training data performance with new data"
   ]
  },
  {
   "cell_type": "markdown",
   "metadata": {},
   "source": [
    "#### Training process\n",
    "* Split data into:\n",
    "    * Training data (70% of the data)\n",
    "    * Testing data (30% of the data)\n",
    "* Train the algorithm with the training data holdin the testing data for evaluation\n",
    "* Training process produces a training based on:\n",
    "    * Model on the logic algorithm\n",
    "    * Values of the features in the training data\n",
    "   \n",
    "#### Selecting traing features\n",
    "* Use relevant minimum features (columns )"
   ]
  },
  {
   "cell_type": "markdown",
   "metadata": {},
   "source": [
    "##### Note: Don't rewrite code from scratch\n",
    "    * Scikit-learn contains training functions"
   ]
  },
  {
   "cell_type": "markdown",
   "metadata": {},
   "source": [
    "#### Scikit-learn library:\n",
    "* Toolset for training & Evalution\n",
    "* Common interface for accessing algorithms\n",
    "* Functions:\n",
    "    * Data splitting\n",
    "    * Pre-processing\n",
    "    * Features selection\n",
    "    * Model training\n",
    "    * Model tuning"
   ]
  },
  {
   "cell_type": "code",
   "execution_count": null,
   "metadata": {},
   "outputs": [],
   "source": []
  }
 ],
 "metadata": {
  "kernelspec": {
   "display_name": "Python 3",
   "language": "python",
   "name": "python3"
  },
  "language_info": {
   "codemirror_mode": {
    "name": "ipython",
    "version": 3
   },
   "file_extension": ".py",
   "mimetype": "text/x-python",
   "name": "python",
   "nbconvert_exporter": "python",
   "pygments_lexer": "ipython3",
   "version": "3.7.4"
  }
 },
 "nbformat": 4,
 "nbformat_minor": 2
}
